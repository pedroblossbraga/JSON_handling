{
  "nbformat": 4,
  "nbformat_minor": 0,
  "metadata": {
    "colab": {
      "name": "JSON_to_CSV_converter_Py.ipynb",
      "provenance": [],
      "collapsed_sections": [],
      "authorship_tag": "ABX9TyNUSaH4tkIB1ZM/leqiy0Zo",
      "include_colab_link": true
    },
    "kernelspec": {
      "name": "python3",
      "display_name": "Python 3"
    }
  },
  "cells": [
    {
      "cell_type": "markdown",
      "metadata": {
        "id": "view-in-github",
        "colab_type": "text"
      },
      "source": [
        "<a href=\"https://colab.research.google.com/github/pedroblossbraga/JSON_handling/blob/main/JSON_to_CSV_converter_Py.ipynb\" target=\"_parent\"><img src=\"https://colab.research.google.com/assets/colab-badge.svg\" alt=\"Open In Colab\"/></a>"
      ]
    },
    {
      "cell_type": "code",
      "metadata": {
        "colab": {
          "base_uri": "https://localhost:8080/",
          "height": 35
        },
        "id": "3ZGPHK2WQ_SF",
        "outputId": "f324c4ed-e940-4e42-cea0-9e5d0fe07722"
      },
      "source": [
        "import json\r\n",
        "\r\n",
        "\r\n",
        "d = {\r\n",
        "    'a': [1,2,3],\r\n",
        "     'b': ['alex', 'bert', 'cam'],\r\n",
        "     'c': [0],\r\n",
        "     'd': list(range(10))\r\n",
        "}\r\n",
        "\r\n",
        "j = json.dumps(d)\r\n",
        "j"
      ],
      "execution_count": 87,
      "outputs": [
        {
          "output_type": "execute_result",
          "data": {
            "application/vnd.google.colaboratory.intrinsic+json": {
              "type": "string"
            },
            "text/plain": [
              "'{\"a\": [1, 2, 3], \"b\": [\"alex\", \"bert\", \"cam\"], \"c\": [0], \"d\": [0, 1, 2, 3, 4, 5, 6, 7, 8, 9]}'"
            ]
          },
          "metadata": {
            "tags": []
          },
          "execution_count": 87
        }
      ]
    },
    {
      "cell_type": "code",
      "metadata": {
        "colab": {
          "base_uri": "https://localhost:8080/",
          "height": 359
        },
        "id": "6Q1UNaSTSqDh",
        "outputId": "d28b7334-4ad6-475d-a0a5-55e8b59e5e65"
      },
      "source": [
        "import pandas as pd\r\n",
        "import json\r\n",
        "\r\n",
        "def JSON_to_str(j):\r\n",
        "  \"\"\"\r\n",
        "  Converts a JSON to a DataFrame table\r\n",
        "\r\n",
        "  -------------------------\r\n",
        "  Parameters\r\n",
        "  j: JSON\r\n",
        "\r\n",
        "  Returns\r\n",
        "  df: DataFrame\r\n",
        "  ---------------------------\r\n",
        "  \"\"\"\r\n",
        "  l = j.replace('}','').replace('}','').split(']')\r\n",
        "  l = list(filter(lambda x: x!= '',l))\r\n",
        "\r\n",
        "  di = {}\r\n",
        "  N = 0\r\n",
        "  for k in range(len(l)):\r\n",
        "    chave, vals = l[k].split(':')\r\n",
        "    z = vals.replace(' ','').replace('[','').replace('\"','').split(',')\r\n",
        "    if len(z)>N:\r\n",
        "      N = len(z) # largest sequence size in JSON\r\n",
        "    di.update(\r\n",
        "        {\r\n",
        "            chave.replace('{','').replace('}','').replace('\"','').replace(' ','').replace(',','') : z\r\n",
        "        }\r\n",
        "    )\r\n",
        "\r\n",
        "  for k in list(di.keys()):\r\n",
        "    N_k = len(di[k])\r\n",
        "    di[k]+= ['']*(N - N_k)\r\n",
        "\r\n",
        "  df = pd.DataFrame(\r\n",
        "      data=di, columns = list(di.keys()),\r\n",
        "      index = list(range(N))\r\n",
        "  )\r\n",
        "  return df\r\n",
        "\r\n",
        "df = JSON_to_str(j)\r\n",
        "df"
      ],
      "execution_count": 88,
      "outputs": [
        {
          "output_type": "execute_result",
          "data": {
            "text/html": [
              "<div>\n",
              "<style scoped>\n",
              "    .dataframe tbody tr th:only-of-type {\n",
              "        vertical-align: middle;\n",
              "    }\n",
              "\n",
              "    .dataframe tbody tr th {\n",
              "        vertical-align: top;\n",
              "    }\n",
              "\n",
              "    .dataframe thead th {\n",
              "        text-align: right;\n",
              "    }\n",
              "</style>\n",
              "<table border=\"1\" class=\"dataframe\">\n",
              "  <thead>\n",
              "    <tr style=\"text-align: right;\">\n",
              "      <th></th>\n",
              "      <th>a</th>\n",
              "      <th>b</th>\n",
              "      <th>c</th>\n",
              "      <th>d</th>\n",
              "    </tr>\n",
              "  </thead>\n",
              "  <tbody>\n",
              "    <tr>\n",
              "      <th>0</th>\n",
              "      <td>1</td>\n",
              "      <td>alex</td>\n",
              "      <td>0</td>\n",
              "      <td>0</td>\n",
              "    </tr>\n",
              "    <tr>\n",
              "      <th>1</th>\n",
              "      <td>2</td>\n",
              "      <td>bert</td>\n",
              "      <td></td>\n",
              "      <td>1</td>\n",
              "    </tr>\n",
              "    <tr>\n",
              "      <th>2</th>\n",
              "      <td>3</td>\n",
              "      <td>cam</td>\n",
              "      <td></td>\n",
              "      <td>2</td>\n",
              "    </tr>\n",
              "    <tr>\n",
              "      <th>3</th>\n",
              "      <td></td>\n",
              "      <td></td>\n",
              "      <td></td>\n",
              "      <td>3</td>\n",
              "    </tr>\n",
              "    <tr>\n",
              "      <th>4</th>\n",
              "      <td></td>\n",
              "      <td></td>\n",
              "      <td></td>\n",
              "      <td>4</td>\n",
              "    </tr>\n",
              "    <tr>\n",
              "      <th>5</th>\n",
              "      <td></td>\n",
              "      <td></td>\n",
              "      <td></td>\n",
              "      <td>5</td>\n",
              "    </tr>\n",
              "    <tr>\n",
              "      <th>6</th>\n",
              "      <td></td>\n",
              "      <td></td>\n",
              "      <td></td>\n",
              "      <td>6</td>\n",
              "    </tr>\n",
              "    <tr>\n",
              "      <th>7</th>\n",
              "      <td></td>\n",
              "      <td></td>\n",
              "      <td></td>\n",
              "      <td>7</td>\n",
              "    </tr>\n",
              "    <tr>\n",
              "      <th>8</th>\n",
              "      <td></td>\n",
              "      <td></td>\n",
              "      <td></td>\n",
              "      <td>8</td>\n",
              "    </tr>\n",
              "    <tr>\n",
              "      <th>9</th>\n",
              "      <td></td>\n",
              "      <td></td>\n",
              "      <td></td>\n",
              "      <td>9</td>\n",
              "    </tr>\n",
              "  </tbody>\n",
              "</table>\n",
              "</div>"
            ],
            "text/plain": [
              "   a     b  c  d\n",
              "0  1  alex  0  0\n",
              "1  2  bert     1\n",
              "2  3   cam     2\n",
              "3              3\n",
              "4              4\n",
              "5              5\n",
              "6              6\n",
              "7              7\n",
              "8              8\n",
              "9              9"
            ]
          },
          "metadata": {
            "tags": []
          },
          "execution_count": 88
        }
      ]
    }
  ]
}
